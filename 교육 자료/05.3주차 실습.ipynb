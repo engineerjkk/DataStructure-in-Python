{
 "cells": [
  {
   "cell_type": "markdown",
   "id": "8167cc7f",
   "metadata": {},
   "source": [
    "## 리스트와 셋 \n",
    "교재 99쪽\n",
    "\n",
    "### 3.1 List ADT\n",
    "- List()  \n",
    "- insert(pos,e)  \n",
    "- delete(pos)  \n",
    "- isempty()\n",
    "- getEntry(pos)\n",
    "- size()\n",
    "- clear()\n",
    "- find(item)\n",
    "- replace(pos, item)\n",
    "- sort()\n",
    "- merge(lst)\n",
    "- display()\n",
    "- append(e)\n"
   ]
  },
  {
   "cell_type": "code",
   "execution_count": 1,
   "id": "09d10c9d",
   "metadata": {},
   "outputs": [],
   "source": [
    "items=[]\n",
    "\n",
    "def insert(pos,e):\n",
    "    items.insert(pos,e)\n",
    "    \n",
    "def delete(pos):\n",
    "    return items.pop(pos)\n",
    "\n",
    "def getEntry(pos):\n",
    "    return items[pos]\n",
    "\n",
    "def isEmpty():\n",
    "    if len(items)==0:\n",
    "        return True\n",
    "    else:\n",
    "        return False\n",
    "#def isEmpty():return len(items)==0\n",
    "\n",
    "def size():\n",
    "    return len(items)\n",
    "\n",
    "def clear():\n",
    "    global items\n",
    "    items=[]\n",
    "\n",
    "# 인덱스를 갖고있는 위치를 반환한다.\n",
    "def find(item):\n",
    "    return items.index(item)\n",
    "\n",
    "def replace(pos, e):\n",
    "    items[pos]=e\n",
    "    \n",
    "def sort():\n",
    "    items.sort()\n",
    "\n",
    "#merge가 아니라 extent, append하면 리스트안에 리스트가 들어간다. 이차이점 알기!\n",
    "def merge(list):\n",
    "    items.extend(list)\n",
    "\n",
    "def display(msg=\"ArrayList\"):\n",
    "    print(msg,size(),items)\n",
    "    "
   ]
  },
  {
   "cell_type": "code",
   "execution_count": 2,
   "id": "6f3fef9d",
   "metadata": {},
   "outputs": [
    {
     "data": {
      "text/plain": [
       "[0, 1, 2, 3, 4, 5, 6, 7, 8, 9]"
      ]
     },
     "execution_count": 2,
     "metadata": {},
     "output_type": "execute_result"
    }
   ],
   "source": [
    "items=list(range(0,10))\n",
    "items"
   ]
  },
  {
   "cell_type": "code",
   "execution_count": 3,
   "id": "2528349e",
   "metadata": {},
   "outputs": [
    {
     "data": {
      "text/plain": [
       "list"
      ]
     },
     "execution_count": 3,
     "metadata": {},
     "output_type": "execute_result"
    }
   ],
   "source": [
    "type(items)"
   ]
  },
  {
   "cell_type": "code",
   "execution_count": 4,
   "id": "ff6f2a76",
   "metadata": {},
   "outputs": [
    {
     "name": "stdout",
     "output_type": "stream",
     "text": [
      "ArrayList 10 [0, 1, 2, 3, 4, 5, 6, 7, 8, 9]\n"
     ]
    }
   ],
   "source": [
    "display()"
   ]
  },
  {
   "cell_type": "code",
   "execution_count": 5,
   "id": "397dea30",
   "metadata": {},
   "outputs": [
    {
     "data": {
      "text/plain": [
       "<function __main__.merge(list)>"
      ]
     },
     "execution_count": 5,
     "metadata": {},
     "output_type": "execute_result"
    }
   ],
   "source": [
    "merge([10,11,12])\n",
    "merge"
   ]
  },
  {
   "cell_type": "code",
   "execution_count": 6,
   "id": "85d1f0be",
   "metadata": {},
   "outputs": [
    {
     "name": "stdout",
     "output_type": "stream",
     "text": [
      "ArrayList 13 [0, 1, 2, 3, 4, 5, 6, 7, 8, 9, 10, 11, 12]\n"
     ]
    }
   ],
   "source": [
    "display()"
   ]
  },
  {
   "cell_type": "code",
   "execution_count": 7,
   "id": "19232c67",
   "metadata": {},
   "outputs": [
    {
     "name": "stdout",
     "output_type": "stream",
     "text": [
      "ArrayList 13 [0, 1, 2, 3, 4, 5, 6, 7, 8, 9, 10, 11, 12]\n"
     ]
    }
   ],
   "source": [
    "sort()\n",
    "display()"
   ]
  },
  {
   "cell_type": "code",
   "execution_count": 8,
   "id": "7368a9d7",
   "metadata": {},
   "outputs": [
    {
     "data": {
      "text/plain": [
       "5"
      ]
     },
     "execution_count": 8,
     "metadata": {},
     "output_type": "execute_result"
    }
   ],
   "source": [
    "find(5)"
   ]
  },
  {
   "cell_type": "code",
   "execution_count": 9,
   "id": "74c9f38f",
   "metadata": {},
   "outputs": [
    {
     "name": "stdout",
     "output_type": "stream",
     "text": [
      "ArrayList 0 []\n"
     ]
    }
   ],
   "source": [
    "clear()\n",
    "display()"
   ]
  },
  {
   "cell_type": "code",
   "execution_count": 10,
   "id": "c22724a1",
   "metadata": {},
   "outputs": [],
   "source": [
    "class ArrayList:\n",
    "    def __init__(self): #컨스트럭터 생성\n",
    "        self.items=[]\n",
    "        \n",
    "    def insert(self,pos,e):\n",
    "        self.items.insert(pos,e)\n",
    "    \n",
    "    def delete(self,pos):\n",
    "        return self.items.pop(pos)\n",
    "\n",
    "    def getEntry(self,pos):\n",
    "        return self.items[pos]\n",
    "\n",
    "    def isEmpty(self):\n",
    "        if len(self.items)==0:\n",
    "            return True\n",
    "        else:\n",
    "            return False\n",
    "    #def isEmpty():return len(items)==0\n",
    "\n",
    "    def size(self):\n",
    "        return len(self.items)\n",
    "\n",
    "    def clear(self):\n",
    "        self.items=[]\n",
    "\n",
    "    # 인덱스를 갖고있는 위치를 반환한다.\n",
    "    def find(self,item):\n",
    "        return self.items.index(item)\n",
    "\n",
    "    def replace(self,pos, e):\n",
    "        items[pos]=e\n",
    "\n",
    "    def sort(self):\n",
    "        self.items.sort()\n",
    "\n",
    "    #merge가 아니라 extent, append하면 리스트안에 리스트가 들어간다. 이차이점 알기!\n",
    "    def merge(self,list):\n",
    "        self.items.extend(list)\n",
    "\n",
    "    def display(self,msg=\"ArrayList\"):\n",
    "        print(msg,self.size(),self.items)"
   ]
  },
  {
   "cell_type": "code",
   "execution_count": 11,
   "id": "9cc5bacb",
   "metadata": {},
   "outputs": [],
   "source": [
    "s=ArrayList()"
   ]
  },
  {
   "cell_type": "code",
   "execution_count": 12,
   "id": "4ca3ce7d",
   "metadata": {},
   "outputs": [
    {
     "name": "stdout",
     "output_type": "stream",
     "text": [
      "ArrayList 0 []\n"
     ]
    }
   ],
   "source": [
    "s.display()"
   ]
  },
  {
   "cell_type": "code",
   "execution_count": 13,
   "id": "629fb60c",
   "metadata": {},
   "outputs": [],
   "source": [
    "s.insert(0,10)"
   ]
  },
  {
   "cell_type": "code",
   "execution_count": 14,
   "id": "839da95a",
   "metadata": {},
   "outputs": [
    {
     "name": "stdout",
     "output_type": "stream",
     "text": [
      "ArrayList 1 [10]\n"
     ]
    }
   ],
   "source": [
    "s.display()"
   ]
  },
  {
   "cell_type": "code",
   "execution_count": 15,
   "id": "0e53349e",
   "metadata": {},
   "outputs": [],
   "source": [
    "s.insert(1,50);s.insert(2,70);s.insert(3,40)"
   ]
  },
  {
   "cell_type": "code",
   "execution_count": 16,
   "id": "28d1bc91",
   "metadata": {},
   "outputs": [
    {
     "name": "stdout",
     "output_type": "stream",
     "text": [
      "ArrayList 4 [10, 50, 70, 40]\n"
     ]
    }
   ],
   "source": [
    "s.display()"
   ]
  },
  {
   "cell_type": "code",
   "execution_count": 17,
   "id": "d554022c",
   "metadata": {},
   "outputs": [
    {
     "name": "stdout",
     "output_type": "stream",
     "text": [
      "ArrayList 4 [10, 40, 50, 70]\n"
     ]
    }
   ],
   "source": [
    "s.sort()\n",
    "s.display()"
   ]
  },
  {
   "cell_type": "code",
   "execution_count": 18,
   "id": "0fb3fa02",
   "metadata": {},
   "outputs": [],
   "source": [
    "s.merge([4,8,9])"
   ]
  },
  {
   "cell_type": "code",
   "execution_count": 19,
   "id": "447ceab9",
   "metadata": {},
   "outputs": [
    {
     "name": "stdout",
     "output_type": "stream",
     "text": [
      "ArrayList 7 [10, 40, 50, 70, 4, 8, 9]\n"
     ]
    }
   ],
   "source": [
    "s.display()"
   ]
  },
  {
   "cell_type": "code",
   "execution_count": 20,
   "id": "008beb04",
   "metadata": {},
   "outputs": [],
   "source": [
    "s.clear()"
   ]
  },
  {
   "cell_type": "code",
   "execution_count": 21,
   "id": "5560d5c6",
   "metadata": {},
   "outputs": [
    {
     "name": "stdout",
     "output_type": "stream",
     "text": [
      "ArrayList 0 []\n"
     ]
    }
   ],
   "source": [
    "s.display()"
   ]
  },
  {
   "cell_type": "code",
   "execution_count": 31,
   "id": "7fff5cc7",
   "metadata": {},
   "outputs": [],
   "source": [
    "def myLineEditor(): #리스트를 좌지우지할 수 있는 프로그램\n",
    "    lst=ArrayList()\n",
    "    while True:\n",
    "        command=input('메뉴 선택 i:입력, d:삭제, r:변경, p:출력, l:파일읽기, s: 저장, q: 종료')\n",
    "        \n",
    "        if command=='i':\n",
    "            #insert로 받기\n",
    "            pos=int(input(\"위치를 입력하세요\"))\n",
    "            e=input(\"입력할 내용은?\")\n",
    "            lst.insert(pos,e)\n",
    "            \n",
    "        elif command=='d':\n",
    "            pos=int(input(\"삭제할 위치는?\"))\n",
    "            lst.delete(pos)\n",
    "            \n",
    "        elif command=='r':\n",
    "            pos=int(input(\"변경할 위치는?\"))\n",
    "            e=input(\"변경할 내용은?\")\n",
    "            lst.replace(pos,e)\n",
    "            \n",
    "        elif command=='p':\n",
    "            print(\"Line Editor\")\n",
    "            for pos in range(lst.size()):\n",
    "                print(\"%2d \"%pos,end='')\n",
    "                print(lst.getEntry(pos))\n",
    "            print()\n",
    "        elif command=='l':\n",
    "            filename='test.txt'\n",
    "            infile= open(filename,'r')\n",
    "            lines=infile.readlines()\n",
    "            for line in lines:\n",
    "                lst.insert(lst.size(),line.rstrip('\\n'))#가장 뒤에다가 붙여넣겠다.\n",
    "            infile.close()\n",
    "        elif command=='s':\n",
    "            filename='test.txt'\n",
    "            outfile=open(filename,'w')\n",
    "            for i in range(lst.size()):\n",
    "                outfile.write(lst.getEntry(i)+'\\n')\n",
    "                \n",
    "            outfile.close()               \n",
    "        elif command=='q':\n",
    "            return \n",
    "        else:\n",
    "            print(\"잘못 누르셨습니다.\")"
   ]
  },
  {
   "cell_type": "code",
   "execution_count": null,
   "id": "fdc2e5a6",
   "metadata": {},
   "outputs": [
    {
     "name": "stdout",
     "output_type": "stream",
     "text": [
      "메뉴 선택 i:입력, d:삭제, r:변경, p:출력, l:파일읽기, s: 저장, q: 종료i\n",
      "위치를 입력하세요0\n",
      "입력할 내용은?100\n",
      "메뉴 선택 i:입력, d:삭제, r:변경, p:출력, l:파일읽기, s: 저장, q: 종료i\n",
      "위치를 입력하세요1\n",
      "입력할 내용은?500\n",
      "메뉴 선택 i:입력, d:삭제, r:변경, p:출력, l:파일읽기, s: 저장, q: 종료i\n",
      "위치를 입력하세요1\n"
     ]
    }
   ],
   "source": [
    "myLineEditor()"
   ]
  },
  {
   "cell_type": "code",
   "execution_count": null,
   "id": "add4ddc4",
   "metadata": {},
   "outputs": [],
   "source": []
  }
 ],
 "metadata": {
  "kernelspec": {
   "display_name": "Python 3",
   "language": "python",
   "name": "python3"
  },
  "language_info": {
   "codemirror_mode": {
    "name": "ipython",
    "version": 3
   },
   "file_extension": ".py",
   "mimetype": "text/x-python",
   "name": "python",
   "nbconvert_exporter": "python",
   "pygments_lexer": "ipython3",
   "version": "3.6.8"
  }
 },
 "nbformat": 4,
 "nbformat_minor": 5
}
