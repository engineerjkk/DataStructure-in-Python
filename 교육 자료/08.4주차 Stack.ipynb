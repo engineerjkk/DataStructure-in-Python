{
 "cells": [
  {
   "cell_type": "markdown",
   "id": "fd75e02c",
   "metadata": {},
   "source": [
    "1. Stack()\n",
    "2. isEmpty()\n",
    "3. push(e)\n",
    "4. pop()\n",
    "5. peek()\n",
    "6. size()\n",
    "7. clear()"
   ]
  },
  {
   "cell_type": "code",
   "execution_count": 3,
   "id": "23995c11",
   "metadata": {},
   "outputs": [],
   "source": [
    "# 배열 구조를 이용한 함수 version\n",
    "\n",
    "top=[]\n",
    "\n",
    "def isEmpty():\n",
    "    return len(top)==0\n",
    "\n",
    "def push(item):\n",
    "    top.append(item)\n",
    "\n",
    "def pop():\n",
    "    if not isEmpty():\n",
    "        return top.pop(-1)\n",
    "def peek():\n",
    "    if not isEmpty():\n",
    "        return top[-1]\n",
    "\n",
    "def size():\n",
    "    return len(top)\n",
    "\n",
    "def clear():\n",
    "    global top\n",
    "    top=[]    "
   ]
  },
  {
   "cell_type": "code",
   "execution_count": 20,
   "id": "4e9dae72",
   "metadata": {},
   "outputs": [
    {
     "name": "stdout",
     "output_type": "stream",
     "text": [
      "[0, 1, 2, 3, 4, 5, 6, 7, 0, 1, 2, 3, 4, 5, 6, 7, 8, 9]\n"
     ]
    }
   ],
   "source": [
    "for i in range(10): # 0~9 까지의 숫자가 top 스택에 들어갑니다.\n",
    "    push(i)\n",
    "    \n",
    "print(top)"
   ]
  },
  {
   "cell_type": "code",
   "execution_count": 5,
   "id": "97402ce1",
   "metadata": {},
   "outputs": [
    {
     "data": {
      "text/plain": [
       "9"
      ]
     },
     "execution_count": 5,
     "metadata": {},
     "output_type": "execute_result"
    }
   ],
   "source": [
    "pop()"
   ]
  },
  {
   "cell_type": "code",
   "execution_count": 6,
   "id": "50ad6537",
   "metadata": {},
   "outputs": [
    {
     "data": {
      "text/plain": [
       "8"
      ]
     },
     "execution_count": 6,
     "metadata": {},
     "output_type": "execute_result"
    }
   ],
   "source": [
    "pop()"
   ]
  },
  {
   "cell_type": "code",
   "execution_count": 7,
   "id": "cba78b80",
   "metadata": {},
   "outputs": [
    {
     "name": "stdout",
     "output_type": "stream",
     "text": [
      "[0, 1, 2, 3, 4, 5, 6, 7]\n"
     ]
    }
   ],
   "source": [
    "print(top)"
   ]
  },
  {
   "cell_type": "code",
   "execution_count": 8,
   "id": "4cc6c72c",
   "metadata": {},
   "outputs": [
    {
     "data": {
      "text/plain": [
       "7"
      ]
     },
     "execution_count": 8,
     "metadata": {},
     "output_type": "execute_result"
    }
   ],
   "source": [
    "peek()"
   ]
  },
  {
   "cell_type": "code",
   "execution_count": 9,
   "id": "b4b5317b",
   "metadata": {},
   "outputs": [
    {
     "data": {
      "text/plain": [
       "<function __main__.clear()>"
      ]
     },
     "execution_count": 9,
     "metadata": {},
     "output_type": "execute_result"
    }
   ],
   "source": [
    "clear"
   ]
  },
  {
   "cell_type": "code",
   "execution_count": 10,
   "id": "a577e673",
   "metadata": {},
   "outputs": [
    {
     "name": "stdout",
     "output_type": "stream",
     "text": [
      "[0, 1, 2, 3, 4, 5, 6, 7]\n"
     ]
    }
   ],
   "source": [
    "print(top)"
   ]
  },
  {
   "cell_type": "code",
   "execution_count": 11,
   "id": "3fedfa6b",
   "metadata": {},
   "outputs": [
    {
     "data": {
      "text/plain": [
       "False"
      ]
     },
     "execution_count": 11,
     "metadata": {},
     "output_type": "execute_result"
    }
   ],
   "source": [
    "isEmpty()"
   ]
  },
  {
   "cell_type": "code",
   "execution_count": 37,
   "id": "310c344d",
   "metadata": {},
   "outputs": [],
   "source": [
    "class Stack:\n",
    "    def __init__(self):\n",
    "        self.top=[]\n",
    "    \n",
    "    def isEmpty(self):\n",
    "        return len(self.top)==0\n",
    "\n",
    "    def push(self,item):\n",
    "        self.top.append(item)\n",
    "\n",
    "    def pop(self):\n",
    "        if not self.isEmpty():\n",
    "            return self.top.pop(-1)\n",
    "    def peek(self):\n",
    "        if not isEmpty():\n",
    "            return self.top[-1]\n",
    "\n",
    "    def size(self):\n",
    "        return len(top)\n",
    "\n",
    "    def clear(self):\n",
    "        self.top=[]    \n",
    "    \n",
    "    def __str__(self):\n",
    "        return str(self.top[::-1])\n",
    "    \n",
    "    # range(0,10,2)"
   ]
  },
  {
   "cell_type": "code",
   "execution_count": 38,
   "id": "6e58977c",
   "metadata": {},
   "outputs": [],
   "source": [
    "# p132 홀 짝\n",
    "odd=Stack()\n",
    "even=Stack()\n",
    "\n",
    "for i in range(30):\n",
    "    if i%2==0:\n",
    "        even.push(i)\n",
    "    else:\n",
    "        odd.push(i)"
   ]
  },
  {
   "cell_type": "code",
   "execution_count": 39,
   "id": "db4290f8",
   "metadata": {},
   "outputs": [
    {
     "name": "stdout",
     "output_type": "stream",
     "text": [
      "[29, 27, 25, 23, 21, 19, 17, 15, 13, 11, 9, 7, 5, 3, 1]\n",
      "[28, 26, 24, 22, 20, 18, 16, 14, 12, 10, 8, 6, 4, 2, 0]\n",
      "29\n",
      "28\n"
     ]
    }
   ],
   "source": [
    "print(odd)\n",
    "print(even)\n",
    "print(odd.peek())\n",
    "print(even.peek())"
   ]
  },
  {
   "cell_type": "code",
   "execution_count": 30,
   "id": "5306139a",
   "metadata": {},
   "outputs": [],
   "source": [
    "for _ in range(5):\n",
    "    odd.pop()\n",
    "\n",
    "for _ in range(3):\n",
    "    even.pop()"
   ]
  },
  {
   "cell_type": "code",
   "execution_count": 31,
   "id": "8aea10d5",
   "metadata": {},
   "outputs": [
    {
     "name": "stdout",
     "output_type": "stream",
     "text": [
      "19 22\n"
     ]
    }
   ],
   "source": [
    "print(odd.peek(),even.peek())"
   ]
  },
  {
   "cell_type": "code",
   "execution_count": 32,
   "id": "25b443b5",
   "metadata": {},
   "outputs": [
    {
     "data": {
      "text/plain": [
       "[1, 3, 5, 7, 9, 11, 13, 15, 17, 19]"
      ]
     },
     "execution_count": 32,
     "metadata": {},
     "output_type": "execute_result"
    }
   ],
   "source": [
    "odd.top"
   ]
  },
  {
   "cell_type": "code",
   "execution_count": 33,
   "id": "1f3278f4",
   "metadata": {},
   "outputs": [
    {
     "data": {
      "text/plain": [
       "[0, 2, 4, 6, 8, 10, 12, 14, 16, 18, 20, 22]"
      ]
     },
     "execution_count": 33,
     "metadata": {},
     "output_type": "execute_result"
    }
   ],
   "source": [
    "even.top"
   ]
  },
  {
   "cell_type": "code",
   "execution_count": 49,
   "id": "6bb42591",
   "metadata": {},
   "outputs": [],
   "source": [
    "#136 괄호검사\n",
    "\n",
    "def checkBrackets(statement):\n",
    "    stack=Stack()\n",
    "    \n",
    "    for ch in statement:\n",
    "        if ch in ('(','{','['):\n",
    "            stack.push(ch)\n",
    "        elif ch in (']',')','}'):\n",
    "            if stack.isEmpty(): #stack이 비어있는데, 오른쪽 괄호 등장\n",
    "                print('stack이 비어있는데 오른쪽 괄호 등장!')\n",
    "                return False\n",
    "            else:\n",
    "                left=stack.pop()\n",
    "                if(ch=='}'and left !='{')or (ch==')'and left!='(')or (ch=='[' and left !='['):\n",
    "                    print(\"짝이 맞지 않으면 False\")\n",
    "                    return False\n",
    "    \n",
    "    if stack.isEmpty():\n",
    "        return True\n",
    "    else:\n",
    "        print('만약 닫히지 않는 괄호가 있다면 False가 출력')\n",
    "        return False\n",
    "    #return stack.isEmpty() # 만약 닫히지 않은 괄호가 있다면 False가 출력된다."
   ]
  },
  {
   "cell_type": "code",
   "execution_count": 50,
   "id": "4540ab7f",
   "metadata": {},
   "outputs": [
    {
     "name": "stdout",
     "output_type": "stream",
     "text": [
      "짝이 맞지 않으면 False\n",
      "{A[i+1)]}=0; -----> False\n",
      "만약 닫히지 않는 괄호가 있다면 False가 출력\n",
      "if((i==0)&&(j==0) -----> False\n",
      "A[(i+1)=0;] -----> True\n"
     ]
    }
   ],
   "source": [
    "str=(\"{A[i+1)]}=0;\",'if((i==0)&&(j==0)','A[(i+1)=0;]')\n",
    "\n",
    "for s in str:\n",
    "    m=checkBrackets(s)\n",
    "    print(s,'----->',m)"
   ]
  },
  {
   "cell_type": "code",
   "execution_count": 64,
   "id": "c1ba3db2",
   "metadata": {},
   "outputs": [],
   "source": [
    "# p141 후위 표기 수식 계산\n",
    "\n",
    "expr1=['8','2','/','3','-','2','*','+']"
   ]
  },
  {
   "cell_type": "code",
   "execution_count": 65,
   "id": "a505b02b",
   "metadata": {},
   "outputs": [],
   "source": [
    "def evalPostfix(expr):\n",
    "    s=Stack()\n",
    "    \n",
    "    for token in expr:\n",
    "        if token in ('+-*/'):\n",
    "            val2=s.pop()\n",
    "            val1=s.pop()\n",
    "            if (token=='+'): s.push(val1+val2)\n",
    "            if (token=='-'): s.push(val1-val2)\n",
    "            if (token=='*'): s.push(val1*val2)\n",
    "            if (token=='/'): s.push(val1/val2)\n",
    "        else:\n",
    "            s.push(float(token))\n",
    "    return s.pop()"
   ]
  },
  {
   "cell_type": "code",
   "execution_count": 66,
   "id": "9e2d05df",
   "metadata": {},
   "outputs": [
    {
     "ename": "TypeError",
     "evalue": "unsupported operand type(s) for +: 'NoneType' and 'float'",
     "output_type": "error",
     "traceback": [
      "\u001b[1;31m---------------------------------------------------------------------------\u001b[0m",
      "\u001b[1;31mTypeError\u001b[0m                                 Traceback (most recent call last)",
      "\u001b[1;32m<ipython-input-66-744d08a74d4f>\u001b[0m in \u001b[0;36m<module>\u001b[1;34m\u001b[0m\n\u001b[1;32m----> 1\u001b[1;33m \u001b[0mevalPostfix\u001b[0m\u001b[1;33m(\u001b[0m\u001b[0mexpr1\u001b[0m\u001b[1;33m)\u001b[0m\u001b[1;33m\u001b[0m\u001b[1;33m\u001b[0m\u001b[0m\n\u001b[0m",
      "\u001b[1;32m<ipython-input-65-481c567c5b2d>\u001b[0m in \u001b[0;36mevalPostfix\u001b[1;34m(expr)\u001b[0m\n\u001b[0;32m      6\u001b[0m             \u001b[0mval2\u001b[0m\u001b[1;33m=\u001b[0m\u001b[0ms\u001b[0m\u001b[1;33m.\u001b[0m\u001b[0mpop\u001b[0m\u001b[1;33m(\u001b[0m\u001b[1;33m)\u001b[0m\u001b[1;33m\u001b[0m\u001b[1;33m\u001b[0m\u001b[0m\n\u001b[0;32m      7\u001b[0m             \u001b[0mval1\u001b[0m\u001b[1;33m=\u001b[0m\u001b[0ms\u001b[0m\u001b[1;33m.\u001b[0m\u001b[0mpop\u001b[0m\u001b[1;33m(\u001b[0m\u001b[1;33m)\u001b[0m\u001b[1;33m\u001b[0m\u001b[1;33m\u001b[0m\u001b[0m\n\u001b[1;32m----> 8\u001b[1;33m             \u001b[1;32mif\u001b[0m \u001b[1;33m(\u001b[0m\u001b[0mtoken\u001b[0m\u001b[1;33m==\u001b[0m\u001b[1;34m'+'\u001b[0m\u001b[1;33m)\u001b[0m\u001b[1;33m:\u001b[0m \u001b[0ms\u001b[0m\u001b[1;33m.\u001b[0m\u001b[0mpush\u001b[0m\u001b[1;33m(\u001b[0m\u001b[0mval1\u001b[0m\u001b[1;33m+\u001b[0m\u001b[0mval2\u001b[0m\u001b[1;33m)\u001b[0m\u001b[1;33m\u001b[0m\u001b[1;33m\u001b[0m\u001b[0m\n\u001b[0m\u001b[0;32m      9\u001b[0m             \u001b[1;32mif\u001b[0m \u001b[1;33m(\u001b[0m\u001b[0mtoken\u001b[0m\u001b[1;33m==\u001b[0m\u001b[1;34m'-'\u001b[0m\u001b[1;33m)\u001b[0m\u001b[1;33m:\u001b[0m \u001b[0ms\u001b[0m\u001b[1;33m.\u001b[0m\u001b[0mpush\u001b[0m\u001b[1;33m(\u001b[0m\u001b[0mval1\u001b[0m\u001b[1;33m-\u001b[0m\u001b[0mval2\u001b[0m\u001b[1;33m)\u001b[0m\u001b[1;33m\u001b[0m\u001b[1;33m\u001b[0m\u001b[0m\n\u001b[0;32m     10\u001b[0m             \u001b[1;32mif\u001b[0m \u001b[1;33m(\u001b[0m\u001b[0mtoken\u001b[0m\u001b[1;33m==\u001b[0m\u001b[1;34m'*'\u001b[0m\u001b[1;33m)\u001b[0m\u001b[1;33m:\u001b[0m \u001b[0ms\u001b[0m\u001b[1;33m.\u001b[0m\u001b[0mpush\u001b[0m\u001b[1;33m(\u001b[0m\u001b[0mval1\u001b[0m\u001b[1;33m*\u001b[0m\u001b[0mval2\u001b[0m\u001b[1;33m)\u001b[0m\u001b[1;33m\u001b[0m\u001b[1;33m\u001b[0m\u001b[0m\n",
      "\u001b[1;31mTypeError\u001b[0m: unsupported operand type(s) for +: 'NoneType' and 'float'"
     ]
    }
   ],
   "source": [
    "evalPostfix(expr1)"
   ]
  },
  {
   "cell_type": "code",
   "execution_count": 67,
   "id": "3cff16f8",
   "metadata": {},
   "outputs": [],
   "source": [
    "expr2=['1','2','/','4','*','1','4','/','*']"
   ]
  },
  {
   "cell_type": "code",
   "execution_count": 68,
   "id": "e9fbac70",
   "metadata": {},
   "outputs": [
    {
     "data": {
      "text/plain": [
       "0.5"
      ]
     },
     "execution_count": 68,
     "metadata": {},
     "output_type": "execute_result"
    }
   ],
   "source": [
    "evalPostfix(expr2)"
   ]
  },
  {
   "cell_type": "code",
   "execution_count": 75,
   "id": "f76cb48d",
   "metadata": {},
   "outputs": [],
   "source": [
    "#p 145 중위표기 -> 후위표기\n",
    "\n",
    "def precedence (op):\n",
    "    if op=='(' or op==')':return 0\n",
    "    elif op=='+' or op=='-':return 1\n",
    "    elif op=='*' or op=='/':return 2\n",
    "    else:return -1"
   ]
  },
  {
   "cell_type": "code",
   "execution_count": 76,
   "id": "94a01e35",
   "metadata": {},
   "outputs": [],
   "source": [
    "expr=['8','/','2','-','3','+','(','3','*','2',')']"
   ]
  },
  {
   "cell_type": "code",
   "execution_count": 77,
   "id": "73b70873",
   "metadata": {},
   "outputs": [],
   "source": [
    "def Infix2Postfix(expr):\n",
    "    s=Stack()\n",
    "    output=[]\n",
    "    \n",
    "    for term in expr:\n",
    "        if term in '(':\n",
    "            s.push('(')\n",
    "        elif term in ')':\n",
    "            while not s.isEmpty():\n",
    "                op=s.pop()\n",
    "                if op=='(':break;\n",
    "                else:\n",
    "                    output.append(op)\n",
    "        elif term in '+-*/':\n",
    "            while not s.isEmpty():\n",
    "                op=s.peek()\n",
    "                if(precedence(term)<=precedence(op)):\n",
    "                    output.append(op)\n",
    "                    s.pop()\n",
    "                else:break\n",
    "                \n",
    "            #연산자의 우선순위를 체크\n",
    "            s.push(term)\n",
    "        else:\n",
    "            output.append(term)\n",
    "            \n",
    "    while not s.isEmpty():\n",
    "        output.append(s.pop())\n",
    "    \n",
    "    return output\n",
    "    \n",
    "                    "
   ]
  },
  {
   "cell_type": "code",
   "execution_count": 78,
   "id": "ba1db0ce",
   "metadata": {},
   "outputs": [
    {
     "data": {
      "text/plain": [
       "['8', '2', '/', '3', '-', '3', '2', '*', '+']"
      ]
     },
     "execution_count": 78,
     "metadata": {},
     "output_type": "execute_result"
    }
   ],
   "source": [
    "Infix2Postfix(expr)"
   ]
  },
  {
   "cell_type": "code",
   "execution_count": 82,
   "id": "43e43828",
   "metadata": {},
   "outputs": [],
   "source": [
    "#p.149 미로찾기와 DFS\n",
    "\n",
    "def isValidPos(x,y):\n",
    "    if x<0 or y<0 or x>= MAZE_SIZE or y>=MAZE_SIZE:\n",
    "        return False\n",
    "    else:\n",
    "        return map[y][x]=='0' or map[y][x]=='x'"
   ]
  },
  {
   "cell_type": "code",
   "execution_count": 102,
   "id": "381b67cd",
   "metadata": {},
   "outputs": [],
   "source": [
    "map=[['1','1','1','1','1','1',],\n",
    "    ['e','0','0','0','0','1'],\n",
    "    ['1','0','1','0','1','1'],\n",
    "    ['1','1','1','0','0','x'],\n",
    "    ['1','1','1','0','1','1'],\n",
    "    ['1','1','1','1','1','1']]\n",
    "\n",
    "MAZE_SIZE=6\n"
   ]
  },
  {
   "cell_type": "code",
   "execution_count": 106,
   "id": "e4d9825e",
   "metadata": {},
   "outputs": [],
   "source": [
    "def DFS():\n",
    "    stack=Stack()\n",
    "    stack.push((0,1))#(0,1)은 출발위치가 됩니다.\n",
    "    \n",
    "    print(\"DFS:\" )\n",
    "    \n",
    "    while not stack.isEmpty():\n",
    "        here=stack.pop()\n",
    "        print(here,end=\"->\")\n",
    "        \n",
    "        (x,y)=here#here[(a,b),(c,d)]\n",
    "        if map[y][x]=='x':\n",
    "            return True\n",
    "        \n",
    "        else:\n",
    "            map[y][x]='.'\n",
    "            if isValidPos(x,y-1): stack.push((x,y-1)) #상\n",
    "            if isValidPos(x,y+1):stack.push((x,y-1)) #하\n",
    "            if isValidPos(x-1,y): stack.push((x-1,y)) #좌\n",
    "            if isValidPos(x+1,y):stack.push((x+1,y)) #우\n",
    "        print(\"현재 스택\", stack)\n",
    "        \n",
    "        for i in range(MAZE_SIZE):\n",
    "            print(map[i])\n",
    "            \n",
    "    return False  "
   ]
  },
  {
   "cell_type": "code",
   "execution_count": 107,
   "id": "8197b895",
   "metadata": {},
   "outputs": [
    {
     "name": "stdout",
     "output_type": "stream",
     "text": [
      "DFS:\n",
      "(0, 1)->현재 스택 "
     ]
    },
    {
     "ename": "TypeError",
     "evalue": "'tuple' object is not callable",
     "output_type": "error",
     "traceback": [
      "\u001b[1;31m---------------------------------------------------------------------------\u001b[0m",
      "\u001b[1;31mTypeError\u001b[0m                                 Traceback (most recent call last)",
      "\u001b[1;32m<ipython-input-107-0902d8be0098>\u001b[0m in \u001b[0;36m<module>\u001b[1;34m\u001b[0m\n\u001b[1;32m----> 1\u001b[1;33m \u001b[0mresult\u001b[0m\u001b[1;33m=\u001b[0m\u001b[0mDFS\u001b[0m\u001b[1;33m(\u001b[0m\u001b[1;33m)\u001b[0m\u001b[1;33m\u001b[0m\u001b[1;33m\u001b[0m\u001b[0m\n\u001b[0m\u001b[0;32m      2\u001b[0m \u001b[1;32mif\u001b[0m \u001b[0mresult\u001b[0m\u001b[1;33m:\u001b[0m\u001b[1;33m\u001b[0m\u001b[1;33m\u001b[0m\u001b[0m\n\u001b[0;32m      3\u001b[0m     \u001b[0mprint\u001b[0m\u001b[1;33m(\u001b[0m\u001b[1;34m'미로 탈출 성공'\u001b[0m\u001b[1;33m)\u001b[0m\u001b[1;33m\u001b[0m\u001b[1;33m\u001b[0m\u001b[0m\n\u001b[0;32m      4\u001b[0m \u001b[1;32melse\u001b[0m\u001b[1;33m:\u001b[0m\u001b[1;33m\u001b[0m\u001b[1;33m\u001b[0m\u001b[0m\n\u001b[0;32m      5\u001b[0m     \u001b[0mprint\u001b[0m\u001b[1;33m(\u001b[0m\u001b[1;34m\"실패\"\u001b[0m\u001b[1;33m)\u001b[0m\u001b[1;33m\u001b[0m\u001b[1;33m\u001b[0m\u001b[0m\n",
      "\u001b[1;32m<ipython-input-106-cbe97dc05e18>\u001b[0m in \u001b[0;36mDFS\u001b[1;34m()\u001b[0m\n\u001b[0;32m     19\u001b[0m             \u001b[1;32mif\u001b[0m \u001b[0misValidPos\u001b[0m\u001b[1;33m(\u001b[0m\u001b[0mx\u001b[0m\u001b[1;33m-\u001b[0m\u001b[1;36m1\u001b[0m\u001b[1;33m,\u001b[0m\u001b[0my\u001b[0m\u001b[1;33m)\u001b[0m\u001b[1;33m:\u001b[0m \u001b[0mstack\u001b[0m\u001b[1;33m.\u001b[0m\u001b[0mpush\u001b[0m\u001b[1;33m(\u001b[0m\u001b[1;33m(\u001b[0m\u001b[0mx\u001b[0m\u001b[1;33m-\u001b[0m\u001b[1;36m1\u001b[0m\u001b[1;33m,\u001b[0m\u001b[0my\u001b[0m\u001b[1;33m)\u001b[0m\u001b[1;33m)\u001b[0m \u001b[1;31m#좌\u001b[0m\u001b[1;33m\u001b[0m\u001b[1;33m\u001b[0m\u001b[0m\n\u001b[0;32m     20\u001b[0m             \u001b[1;32mif\u001b[0m \u001b[0misValidPos\u001b[0m\u001b[1;33m(\u001b[0m\u001b[0mx\u001b[0m\u001b[1;33m+\u001b[0m\u001b[1;36m1\u001b[0m\u001b[1;33m,\u001b[0m\u001b[0my\u001b[0m\u001b[1;33m)\u001b[0m\u001b[1;33m:\u001b[0m\u001b[0mstack\u001b[0m\u001b[1;33m.\u001b[0m\u001b[0mpush\u001b[0m\u001b[1;33m(\u001b[0m\u001b[1;33m(\u001b[0m\u001b[0mx\u001b[0m\u001b[1;33m+\u001b[0m\u001b[1;36m1\u001b[0m\u001b[1;33m,\u001b[0m\u001b[0my\u001b[0m\u001b[1;33m)\u001b[0m\u001b[1;33m)\u001b[0m \u001b[1;31m#우\u001b[0m\u001b[1;33m\u001b[0m\u001b[1;33m\u001b[0m\u001b[0m\n\u001b[1;32m---> 21\u001b[1;33m         \u001b[0mprint\u001b[0m\u001b[1;33m(\u001b[0m\u001b[1;34m\"현재 스택\"\u001b[0m\u001b[1;33m,\u001b[0m \u001b[0mstack\u001b[0m\u001b[1;33m)\u001b[0m\u001b[1;33m\u001b[0m\u001b[1;33m\u001b[0m\u001b[0m\n\u001b[0m\u001b[0;32m     22\u001b[0m \u001b[1;33m\u001b[0m\u001b[0m\n\u001b[0;32m     23\u001b[0m         \u001b[1;32mfor\u001b[0m \u001b[0mi\u001b[0m \u001b[1;32min\u001b[0m \u001b[0mrange\u001b[0m\u001b[1;33m(\u001b[0m\u001b[0mMAZE_SIZE\u001b[0m\u001b[1;33m)\u001b[0m\u001b[1;33m:\u001b[0m\u001b[1;33m\u001b[0m\u001b[1;33m\u001b[0m\u001b[0m\n",
      "\u001b[1;32m<ipython-input-37-b31b6b99ae96>\u001b[0m in \u001b[0;36m__str__\u001b[1;34m(self)\u001b[0m\n\u001b[0;32m     23\u001b[0m \u001b[1;33m\u001b[0m\u001b[0m\n\u001b[0;32m     24\u001b[0m     \u001b[1;32mdef\u001b[0m \u001b[0m__str__\u001b[0m\u001b[1;33m(\u001b[0m\u001b[0mself\u001b[0m\u001b[1;33m)\u001b[0m\u001b[1;33m:\u001b[0m\u001b[1;33m\u001b[0m\u001b[1;33m\u001b[0m\u001b[0m\n\u001b[1;32m---> 25\u001b[1;33m         \u001b[1;32mreturn\u001b[0m \u001b[0mstr\u001b[0m\u001b[1;33m(\u001b[0m\u001b[0mself\u001b[0m\u001b[1;33m.\u001b[0m\u001b[0mtop\u001b[0m\u001b[1;33m[\u001b[0m\u001b[1;33m:\u001b[0m\u001b[1;33m:\u001b[0m\u001b[1;33m-\u001b[0m\u001b[1;36m1\u001b[0m\u001b[1;33m]\u001b[0m\u001b[1;33m)\u001b[0m\u001b[1;33m\u001b[0m\u001b[1;33m\u001b[0m\u001b[0m\n\u001b[0m\u001b[0;32m     26\u001b[0m \u001b[1;33m\u001b[0m\u001b[0m\n\u001b[0;32m     27\u001b[0m     \u001b[1;31m# range(0,10,2)\u001b[0m\u001b[1;33m\u001b[0m\u001b[1;33m\u001b[0m\u001b[1;33m\u001b[0m\u001b[0m\n",
      "\u001b[1;31mTypeError\u001b[0m: 'tuple' object is not callable"
     ]
    }
   ],
   "source": [
    "result=DFS()\n",
    "if result:\n",
    "    print('미로 탈출 성공')\n",
    "else:\n",
    "    print(\"실패\")"
   ]
  },
  {
   "cell_type": "code",
   "execution_count": 108,
   "id": "37ab94ce",
   "metadata": {},
   "outputs": [
    {
     "name": "stdout",
     "output_type": "stream",
     "text": [
      "[['1', '1', '1', '1', '1', '1'], ['.', '0', '0', '0', '0', '1'], ['1', '0', '1', '0', '1', '1'], ['1', '1', '1', '0', '0', 'x'], ['1', '1', '1', '0', '1', '1'], ['1', '1', '1', '1', '1', '1']]\n"
     ]
    }
   ],
   "source": [
    "print(map)"
   ]
  },
  {
   "cell_type": "code",
   "execution_count": null,
   "id": "dac616de",
   "metadata": {},
   "outputs": [],
   "source": []
  },
  {
   "cell_type": "code",
   "execution_count": null,
   "id": "72e0c46d",
   "metadata": {},
   "outputs": [],
   "source": []
  }
 ],
 "metadata": {
  "kernelspec": {
   "display_name": "Python 3",
   "language": "python",
   "name": "python3"
  },
  "language_info": {
   "codemirror_mode": {
    "name": "ipython",
    "version": 3
   },
   "file_extension": ".py",
   "mimetype": "text/x-python",
   "name": "python",
   "nbconvert_exporter": "python",
   "pygments_lexer": "ipython3",
   "version": "3.6.8"
  }
 },
 "nbformat": 4,
 "nbformat_minor": 5
}
